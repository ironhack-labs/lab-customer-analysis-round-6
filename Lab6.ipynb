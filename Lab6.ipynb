{
 "cells": [
  {
   "cell_type": "code",
   "execution_count": 38,
   "id": "8c62fe96",
   "metadata": {},
   "outputs": [],
   "source": [
    "import numpy as np\n",
    "import pandas as pd\n",
    "import matplotlib.pyplot as plt\n",
    "import random\n",
    "import statsmodels.api as sm\n",
    "from sklearn.metrics import mean_squared_error\n",
    "import seaborn as sns\n",
    "from scipy import stats\n",
    "from sklearn.preprocessing import LabelEncoder\n",
    "from sklearn.preprocessing import OneHotEncoder\n",
    "from sklearn.model_selection import train_test_split\n",
    "from sklearn.linear_model import LinearRegression\n",
    "from sklearn.metrics import r2_score\n",
    "from sklearn.metrics import mean_squared_error\n",
    "import math\n",
    "from sklearn.metrics import mean_absolute_error"
   ]
  },
  {
   "cell_type": "code",
   "execution_count": 5,
   "id": "72eb7778",
   "metadata": {},
   "outputs": [],
   "source": [
    "data = pd.read_csv('categorical_data.csv')"
   ]
  },
  {
   "cell_type": "code",
   "execution_count": 7,
   "id": "a16097fc",
   "metadata": {},
   "outputs": [],
   "source": [
    "def label_encoder(data):\n",
    "    data_copy = data.copy()\n",
    "    for i in data.columns:\n",
    "        data_copy[i] = LabelEncoder().fit(data_copy[i]).transform(data_copy[i])\n",
    "    return data_copy"
   ]
  },
  {
   "cell_type": "code",
   "execution_count": 8,
   "id": "85b3722a",
   "metadata": {},
   "outputs": [],
   "source": [
    "data_copy = label_encoder(data)"
   ]
  },
  {
   "cell_type": "code",
   "execution_count": 10,
   "id": "10056b30",
   "metadata": {},
   "outputs": [],
   "source": [
    "Y = pd.read_csv('Y_data.csv')\n",
    "Y = Y.drop(['Unnamed: 0'],axis=1)"
   ]
  },
  {
   "cell_type": "code",
   "execution_count": 12,
   "id": "2f1794da",
   "metadata": {},
   "outputs": [],
   "source": [
    "numerical_x = pd.read_csv('numerical_data.csv').drop(['Total Claim Amount'],axis=1)"
   ]
  },
  {
   "cell_type": "code",
   "execution_count": 13,
   "id": "4f88fcb1",
   "metadata": {},
   "outputs": [
    {
     "data": {
      "text/plain": [
       "Index(['Unnamed: 0', 'Customer Lifetime Value', 'Income',\n",
       "       'Monthly Premium Auto', 'Months Since Last Claim',\n",
       "       'Months Since Policy Inception', 'Number of Open Complaints',\n",
       "       'Number of Policies'],\n",
       "      dtype='object')"
      ]
     },
     "execution_count": 13,
     "metadata": {},
     "output_type": "execute_result"
    }
   ],
   "source": [
    "numerical_x.columns"
   ]
  },
  {
   "cell_type": "code",
   "execution_count": 14,
   "id": "6dba5b31",
   "metadata": {},
   "outputs": [
    {
     "data": {
      "text/plain": [
       "array([[0.00000000e+00, 2.76351928e+03, 5.62740000e+04, ...,\n",
       "        0.00000000e+00, 5.00000000e+00, 1.00000000e+00],\n",
       "       [1.00000000e+00, 6.97953590e+03, 0.00000000e+00, ...,\n",
       "        0.00000000e+00, 0.00000000e+00, 1.00000000e+00],\n",
       "       [2.00000000e+00, 1.28874317e+04, 4.87670000e+04, ...,\n",
       "        0.00000000e+00, 5.00000000e+00, 1.00000000e+00],\n",
       "       ...,\n",
       "       [9.13100000e+03, 8.16389043e+03, 0.00000000e+00, ...,\n",
       "        1.00000000e+00, 0.00000000e+00, 1.00000000e+00],\n",
       "       [9.13200000e+03, 7.52444244e+03, 2.19410000e+04, ...,\n",
       "        1.00000000e+00, 0.00000000e+00, 0.00000000e+00],\n",
       "       [9.13300000e+03, 2.61183687e+03, 0.00000000e+00, ...,\n",
       "        2.00000000e+00, 5.00000000e+00, 1.00000000e+00]])"
      ]
     },
     "execution_count": 14,
     "metadata": {},
     "output_type": "execute_result"
    }
   ],
   "source": [
    "np.concatenate((numerical_x,data_copy), axis=1)"
   ]
  },
  {
   "cell_type": "code",
   "execution_count": 15,
   "id": "078b47b4",
   "metadata": {},
   "outputs": [
    {
     "data": {
      "text/html": [
       "<div>\n",
       "<style scoped>\n",
       "    .dataframe tbody tr th:only-of-type {\n",
       "        vertical-align: middle;\n",
       "    }\n",
       "\n",
       "    .dataframe tbody tr th {\n",
       "        vertical-align: top;\n",
       "    }\n",
       "\n",
       "    .dataframe thead th {\n",
       "        text-align: right;\n",
       "    }\n",
       "</style>\n",
       "<table border=\"1\" class=\"dataframe\">\n",
       "  <thead>\n",
       "    <tr style=\"text-align: right;\">\n",
       "      <th></th>\n",
       "      <th>0</th>\n",
       "      <th>1</th>\n",
       "      <th>2</th>\n",
       "      <th>3</th>\n",
       "      <th>4</th>\n",
       "      <th>5</th>\n",
       "      <th>6</th>\n",
       "      <th>7</th>\n",
       "      <th>8</th>\n",
       "      <th>9</th>\n",
       "      <th>...</th>\n",
       "      <th>15</th>\n",
       "      <th>16</th>\n",
       "      <th>17</th>\n",
       "      <th>18</th>\n",
       "      <th>19</th>\n",
       "      <th>20</th>\n",
       "      <th>21</th>\n",
       "      <th>22</th>\n",
       "      <th>23</th>\n",
       "      <th>24</th>\n",
       "    </tr>\n",
       "  </thead>\n",
       "  <tbody>\n",
       "    <tr>\n",
       "      <th>0</th>\n",
       "      <td>0.0</td>\n",
       "      <td>2763.519279</td>\n",
       "      <td>56274.0</td>\n",
       "      <td>69.0</td>\n",
       "      <td>32.0</td>\n",
       "      <td>5.0</td>\n",
       "      <td>0.0</td>\n",
       "      <td>1.0</td>\n",
       "      <td>0.0</td>\n",
       "      <td>600.0</td>\n",
       "      <td>...</td>\n",
       "      <td>1.0</td>\n",
       "      <td>0.0</td>\n",
       "      <td>1.0</td>\n",
       "      <td>1.0</td>\n",
       "      <td>0.0</td>\n",
       "      <td>2.0</td>\n",
       "      <td>0.0</td>\n",
       "      <td>0.0</td>\n",
       "      <td>5.0</td>\n",
       "      <td>1.0</td>\n",
       "    </tr>\n",
       "    <tr>\n",
       "      <th>1</th>\n",
       "      <td>1.0</td>\n",
       "      <td>6979.535903</td>\n",
       "      <td>0.0</td>\n",
       "      <td>94.0</td>\n",
       "      <td>13.0</td>\n",
       "      <td>42.0</td>\n",
       "      <td>0.0</td>\n",
       "      <td>8.0</td>\n",
       "      <td>1.0</td>\n",
       "      <td>5946.0</td>\n",
       "      <td>...</td>\n",
       "      <td>4.0</td>\n",
       "      <td>0.0</td>\n",
       "      <td>1.0</td>\n",
       "      <td>2.0</td>\n",
       "      <td>1.0</td>\n",
       "      <td>5.0</td>\n",
       "      <td>2.0</td>\n",
       "      <td>0.0</td>\n",
       "      <td>0.0</td>\n",
       "      <td>1.0</td>\n",
       "    </tr>\n",
       "    <tr>\n",
       "      <th>2</th>\n",
       "      <td>2.0</td>\n",
       "      <td>12887.431650</td>\n",
       "      <td>48767.0</td>\n",
       "      <td>108.0</td>\n",
       "      <td>18.0</td>\n",
       "      <td>38.0</td>\n",
       "      <td>0.0</td>\n",
       "      <td>2.0</td>\n",
       "      <td>2.0</td>\n",
       "      <td>96.0</td>\n",
       "      <td>...</td>\n",
       "      <td>1.0</td>\n",
       "      <td>0.0</td>\n",
       "      <td>1.0</td>\n",
       "      <td>1.0</td>\n",
       "      <td>1.0</td>\n",
       "      <td>5.0</td>\n",
       "      <td>0.0</td>\n",
       "      <td>0.0</td>\n",
       "      <td>5.0</td>\n",
       "      <td>1.0</td>\n",
       "    </tr>\n",
       "    <tr>\n",
       "      <th>3</th>\n",
       "      <td>3.0</td>\n",
       "      <td>7645.861827</td>\n",
       "      <td>0.0</td>\n",
       "      <td>106.0</td>\n",
       "      <td>18.0</td>\n",
       "      <td>65.0</td>\n",
       "      <td>0.0</td>\n",
       "      <td>7.0</td>\n",
       "      <td>3.0</td>\n",
       "      <td>8016.0</td>\n",
       "      <td>...</td>\n",
       "      <td>4.0</td>\n",
       "      <td>1.0</td>\n",
       "      <td>1.0</td>\n",
       "      <td>1.0</td>\n",
       "      <td>0.0</td>\n",
       "      <td>1.0</td>\n",
       "      <td>0.0</td>\n",
       "      <td>2.0</td>\n",
       "      <td>3.0</td>\n",
       "      <td>1.0</td>\n",
       "    </tr>\n",
       "    <tr>\n",
       "      <th>4</th>\n",
       "      <td>4.0</td>\n",
       "      <td>2813.692575</td>\n",
       "      <td>43836.0</td>\n",
       "      <td>73.0</td>\n",
       "      <td>12.0</td>\n",
       "      <td>44.0</td>\n",
       "      <td>0.0</td>\n",
       "      <td>1.0</td>\n",
       "      <td>4.0</td>\n",
       "      <td>2488.0</td>\n",
       "      <td>...</td>\n",
       "      <td>1.0</td>\n",
       "      <td>1.0</td>\n",
       "      <td>0.0</td>\n",
       "      <td>2.0</td>\n",
       "      <td>1.0</td>\n",
       "      <td>3.0</td>\n",
       "      <td>0.0</td>\n",
       "      <td>0.0</td>\n",
       "      <td>0.0</td>\n",
       "      <td>1.0</td>\n",
       "    </tr>\n",
       "    <tr>\n",
       "      <th>...</th>\n",
       "      <td>...</td>\n",
       "      <td>...</td>\n",
       "      <td>...</td>\n",
       "      <td>...</td>\n",
       "      <td>...</td>\n",
       "      <td>...</td>\n",
       "      <td>...</td>\n",
       "      <td>...</td>\n",
       "      <td>...</td>\n",
       "      <td>...</td>\n",
       "      <td>...</td>\n",
       "      <td>...</td>\n",
       "      <td>...</td>\n",
       "      <td>...</td>\n",
       "      <td>...</td>\n",
       "      <td>...</td>\n",
       "      <td>...</td>\n",
       "      <td>...</td>\n",
       "      <td>...</td>\n",
       "      <td>...</td>\n",
       "      <td>...</td>\n",
       "    </tr>\n",
       "    <tr>\n",
       "      <th>9129</th>\n",
       "      <td>9129.0</td>\n",
       "      <td>23405.987980</td>\n",
       "      <td>71941.0</td>\n",
       "      <td>73.0</td>\n",
       "      <td>18.0</td>\n",
       "      <td>89.0</td>\n",
       "      <td>0.0</td>\n",
       "      <td>2.0</td>\n",
       "      <td>9129.0</td>\n",
       "      <td>3857.0</td>\n",
       "      <td>...</td>\n",
       "      <td>1.0</td>\n",
       "      <td>1.0</td>\n",
       "      <td>2.0</td>\n",
       "      <td>1.0</td>\n",
       "      <td>1.0</td>\n",
       "      <td>3.0</td>\n",
       "      <td>1.0</td>\n",
       "      <td>3.0</td>\n",
       "      <td>0.0</td>\n",
       "      <td>1.0</td>\n",
       "    </tr>\n",
       "    <tr>\n",
       "      <th>9130</th>\n",
       "      <td>9130.0</td>\n",
       "      <td>3096.511217</td>\n",
       "      <td>21604.0</td>\n",
       "      <td>79.0</td>\n",
       "      <td>14.0</td>\n",
       "      <td>28.0</td>\n",
       "      <td>0.0</td>\n",
       "      <td>1.0</td>\n",
       "      <td>9130.0</td>\n",
       "      <td>5390.0</td>\n",
       "      <td>...</td>\n",
       "      <td>1.0</td>\n",
       "      <td>0.0</td>\n",
       "      <td>1.0</td>\n",
       "      <td>0.0</td>\n",
       "      <td>0.0</td>\n",
       "      <td>2.0</td>\n",
       "      <td>0.0</td>\n",
       "      <td>1.0</td>\n",
       "      <td>0.0</td>\n",
       "      <td>1.0</td>\n",
       "    </tr>\n",
       "    <tr>\n",
       "      <th>9131</th>\n",
       "      <td>9131.0</td>\n",
       "      <td>8163.890428</td>\n",
       "      <td>0.0</td>\n",
       "      <td>85.0</td>\n",
       "      <td>9.0</td>\n",
       "      <td>37.0</td>\n",
       "      <td>3.0</td>\n",
       "      <td>2.0</td>\n",
       "      <td>9131.0</td>\n",
       "      <td>6688.0</td>\n",
       "      <td>...</td>\n",
       "      <td>4.0</td>\n",
       "      <td>1.0</td>\n",
       "      <td>1.0</td>\n",
       "      <td>2.0</td>\n",
       "      <td>0.0</td>\n",
       "      <td>1.0</td>\n",
       "      <td>0.0</td>\n",
       "      <td>1.0</td>\n",
       "      <td>0.0</td>\n",
       "      <td>1.0</td>\n",
       "    </tr>\n",
       "    <tr>\n",
       "      <th>9132</th>\n",
       "      <td>9132.0</td>\n",
       "      <td>7524.442436</td>\n",
       "      <td>21941.0</td>\n",
       "      <td>96.0</td>\n",
       "      <td>34.0</td>\n",
       "      <td>3.0</td>\n",
       "      <td>0.0</td>\n",
       "      <td>3.0</td>\n",
       "      <td>9132.0</td>\n",
       "      <td>7214.0</td>\n",
       "      <td>...</td>\n",
       "      <td>1.0</td>\n",
       "      <td>1.0</td>\n",
       "      <td>1.0</td>\n",
       "      <td>1.0</td>\n",
       "      <td>1.0</td>\n",
       "      <td>4.0</td>\n",
       "      <td>2.0</td>\n",
       "      <td>1.0</td>\n",
       "      <td>0.0</td>\n",
       "      <td>0.0</td>\n",
       "    </tr>\n",
       "    <tr>\n",
       "      <th>9133</th>\n",
       "      <td>9133.0</td>\n",
       "      <td>2611.836866</td>\n",
       "      <td>0.0</td>\n",
       "      <td>77.0</td>\n",
       "      <td>3.0</td>\n",
       "      <td>90.0</td>\n",
       "      <td>0.0</td>\n",
       "      <td>1.0</td>\n",
       "      <td>9133.0</td>\n",
       "      <td>8434.0</td>\n",
       "      <td>...</td>\n",
       "      <td>4.0</td>\n",
       "      <td>1.0</td>\n",
       "      <td>1.0</td>\n",
       "      <td>2.0</td>\n",
       "      <td>0.0</td>\n",
       "      <td>2.0</td>\n",
       "      <td>3.0</td>\n",
       "      <td>2.0</td>\n",
       "      <td>5.0</td>\n",
       "      <td>1.0</td>\n",
       "    </tr>\n",
       "  </tbody>\n",
       "</table>\n",
       "<p>9134 rows × 25 columns</p>\n",
       "</div>"
      ],
      "text/plain": [
       "          0             1        2      3     4     5    6    7       8   \\\n",
       "0        0.0   2763.519279  56274.0   69.0  32.0   5.0  0.0  1.0     0.0   \n",
       "1        1.0   6979.535903      0.0   94.0  13.0  42.0  0.0  8.0     1.0   \n",
       "2        2.0  12887.431650  48767.0  108.0  18.0  38.0  0.0  2.0     2.0   \n",
       "3        3.0   7645.861827      0.0  106.0  18.0  65.0  0.0  7.0     3.0   \n",
       "4        4.0   2813.692575  43836.0   73.0  12.0  44.0  0.0  1.0     4.0   \n",
       "...      ...           ...      ...    ...   ...   ...  ...  ...     ...   \n",
       "9129  9129.0  23405.987980  71941.0   73.0  18.0  89.0  0.0  2.0  9129.0   \n",
       "9130  9130.0   3096.511217  21604.0   79.0  14.0  28.0  0.0  1.0  9130.0   \n",
       "9131  9131.0   8163.890428      0.0   85.0   9.0  37.0  3.0  2.0  9131.0   \n",
       "9132  9132.0   7524.442436  21941.0   96.0  34.0   3.0  0.0  3.0  9132.0   \n",
       "9133  9133.0   2611.836866      0.0   77.0   3.0  90.0  0.0  1.0  9133.0   \n",
       "\n",
       "          9   ...   15   16   17   18   19   20   21   22   23   24  \n",
       "0      600.0  ...  1.0  0.0  1.0  1.0  0.0  2.0  0.0  0.0  5.0  1.0  \n",
       "1     5946.0  ...  4.0  0.0  1.0  2.0  1.0  5.0  2.0  0.0  0.0  1.0  \n",
       "2       96.0  ...  1.0  0.0  1.0  1.0  1.0  5.0  0.0  0.0  5.0  1.0  \n",
       "3     8016.0  ...  4.0  1.0  1.0  1.0  0.0  1.0  0.0  2.0  3.0  1.0  \n",
       "4     2488.0  ...  1.0  1.0  0.0  2.0  1.0  3.0  0.0  0.0  0.0  1.0  \n",
       "...      ...  ...  ...  ...  ...  ...  ...  ...  ...  ...  ...  ...  \n",
       "9129  3857.0  ...  1.0  1.0  2.0  1.0  1.0  3.0  1.0  3.0  0.0  1.0  \n",
       "9130  5390.0  ...  1.0  0.0  1.0  0.0  0.0  2.0  0.0  1.0  0.0  1.0  \n",
       "9131  6688.0  ...  4.0  1.0  1.0  2.0  0.0  1.0  0.0  1.0  0.0  1.0  \n",
       "9132  7214.0  ...  1.0  1.0  1.0  1.0  1.0  4.0  2.0  1.0  0.0  0.0  \n",
       "9133  8434.0  ...  4.0  1.0  1.0  2.0  0.0  2.0  3.0  2.0  5.0  1.0  \n",
       "\n",
       "[9134 rows x 25 columns]"
      ]
     },
     "execution_count": 15,
     "metadata": {},
     "output_type": "execute_result"
    }
   ],
   "source": [
    "pd.DataFrame(np.concatenate((numerical_x,data_copy), axis=1))"
   ]
  },
  {
   "cell_type": "code",
   "execution_count": 16,
   "id": "ff8139d8",
   "metadata": {},
   "outputs": [],
   "source": [
    "X = pd.DataFrame(np.concatenate((numerical_x,data_copy), axis=1))"
   ]
  },
  {
   "cell_type": "code",
   "execution_count": 17,
   "id": "d308bb02",
   "metadata": {},
   "outputs": [
    {
     "data": {
      "text/plain": [
       "[          0             1        2      3     4     5    6    7       8   \\\n",
       " 3715  3715.0   9015.915395      0.0  130.0  32.0  38.0  0.0  4.0  3715.0   \n",
       " 3824  3824.0   9672.701942      0.0   96.0   5.0  27.0  0.0  2.0  3824.0   \n",
       " 4708  4708.0   9061.767848  37970.0  115.0   8.0  44.0  0.0  3.0  4708.0   \n",
       " 8734  8734.0  14980.046260      0.0  222.0  26.0  50.0  0.0  8.0  8734.0   \n",
       " 6094  6094.0   8229.240991      0.0  109.0   5.0  63.0  0.0  3.0  6094.0   \n",
       " ...      ...           ...      ...    ...   ...   ...  ...  ...     ...   \n",
       " 350    350.0   7762.590564  23827.0  106.0  18.0  77.0  2.0  3.0   350.0   \n",
       " 79      79.0  58166.553510  61321.0  186.0   0.0  30.0  1.0  2.0    79.0   \n",
       " 8039  8039.0   5577.669457  11097.0   73.0  26.0  50.0  0.0  4.0  8039.0   \n",
       " 6936  6936.0   4082.704584  23206.0  107.0  31.0  60.0  0.0  1.0  6936.0   \n",
       " 5640  5640.0   4198.025250  30598.0  106.0  13.0  21.0  0.0  1.0  5640.0   \n",
       " \n",
       "           9   ...   15   16   17   18   19   20   21   22   23   24  \n",
       " 3715  3693.0  ...  4.0  1.0  1.0  2.0  0.0  1.0  0.0  0.0  3.0  2.0  \n",
       " 3824  2107.0  ...  4.0  1.0  1.0  2.0  0.0  2.0  0.0  0.0  0.0  1.0  \n",
       " 4708  8168.0  ...  1.0  1.0  0.0  1.0  1.0  5.0  0.0  0.0  3.0  1.0  \n",
       " 8734  6710.0  ...  4.0  0.0  1.0  2.0  1.0  4.0  0.0  1.0  1.0  1.0  \n",
       " 6094  2071.0  ...  4.0  0.0  2.0  1.0  1.0  4.0  2.0  3.0  3.0  1.0  \n",
       " ...      ...  ...  ...  ...  ...  ...  ...  ...  ...  ...  ...  ...  \n",
       " 350   6139.0  ...  0.0  0.0  0.0  1.0  1.0  5.0  0.0  0.0  0.0  1.0  \n",
       " 79    5077.0  ...  1.0  1.0  0.0  2.0  1.0  5.0  1.0  1.0  1.0  2.0  \n",
       " 8039  5816.0  ...  0.0  1.0  1.0  1.0  0.0  2.0  2.0  3.0  5.0  2.0  \n",
       " 6936  8788.0  ...  2.0  0.0  1.0  1.0  1.0  5.0  0.0  2.0  4.0  0.0  \n",
       " 5640  7706.0  ...  1.0  1.0  1.0  1.0  1.0  4.0  2.0  0.0  3.0  1.0  \n",
       " \n",
       " [5480 rows x 25 columns],\n",
       "           0             1        2      3     4     5    6    7       8   \\\n",
       " 7175  7175.0   5112.570311  56587.0   65.0   4.0  88.0  1.0  6.0  7175.0   \n",
       " 7255  7255.0   4882.286714  21236.0  123.0   3.0  12.0  0.0  1.0  7255.0   \n",
       " 2846  2846.0   5488.931031  33881.0   68.0  11.0  83.0  0.0  9.0  2846.0   \n",
       " 1211  1211.0   3700.385003  17557.0   96.0   6.0   5.0  0.0  1.0  1211.0   \n",
       " 4294  4294.0   8679.838135  52717.0  109.0   5.0  60.0  0.0  8.0  4294.0   \n",
       " ...      ...           ...      ...    ...   ...   ...  ...  ...     ...   \n",
       " 1594  1594.0   5087.020469      0.0   72.0  12.0  70.0  0.0  3.0  1594.0   \n",
       " 636    636.0  21435.877820  20668.0  188.0  34.0  54.0  3.0  2.0   636.0   \n",
       " 3326  3326.0   8810.895550  76266.0  110.0  24.0  88.0  1.0  3.0  3326.0   \n",
       " 2604  2604.0   4177.876779  14108.0  109.0  27.0  88.0  0.0  1.0  2604.0   \n",
       " 5252  5252.0   4760.941906      0.0   68.0   9.0   1.0  0.0  6.0  5252.0   \n",
       " \n",
       "           9   ...   15   16   17   18   19   20   21   22   23   24  \n",
       " 7175  6649.0  ...  1.0  1.0  1.0  0.0  1.0  5.0  0.0  3.0  0.0  1.0  \n",
       " 7255  3379.0  ...  1.0  0.0  0.0  1.0  1.0  4.0  1.0  2.0  3.0  1.0  \n",
       " 2846  3533.0  ...  1.0  0.0  0.0  1.0  1.0  5.0  1.0  3.0  0.0  0.0  \n",
       " 1211  4652.0  ...  3.0  0.0  1.0  1.0  1.0  4.0  3.0  3.0  0.0  1.0  \n",
       " 4294  2558.0  ...  1.0  0.0  0.0  1.0  0.0  1.0  2.0  0.0  0.0  1.0  \n",
       " ...      ...  ...  ...  ...  ...  ...  ...  ...  ...  ...  ...  ...  \n",
       " 1594  6709.0  ...  4.0  1.0  1.0  1.0  1.0  3.0  1.0  3.0  0.0  1.0  \n",
       " 636   2290.0  ...  1.0  0.0  1.0  1.0  1.0  5.0  1.0  2.0  1.0  0.0  \n",
       " 3326  8426.0  ...  1.0  0.0  0.0  2.0  1.0  3.0  0.0  1.0  5.0  1.0  \n",
       " 2604  8960.0  ...  2.0  0.0  1.0  1.0  1.0  3.0  0.0  2.0  0.0  2.0  \n",
       " 5252  6532.0  ...  4.0  0.0  1.0  2.0  0.0  2.0  0.0  3.0  0.0  1.0  \n",
       " \n",
       " [3654 rows x 25 columns],\n",
       "       Total Claim Amount\n",
       " 3715          936.000000\n",
       " 3824         1120.677126\n",
       " 4708          124.967415\n",
       " 8734         1123.485329\n",
       " 6094          298.636534\n",
       " ...                  ...\n",
       " 350            37.910623\n",
       " 79            427.631210\n",
       " 8039          350.400000\n",
       " 6936          513.600000\n",
       " 5640          508.800000\n",
       " \n",
       " [5480 rows x 1 columns],\n",
       "       Total Claim Amount\n",
       " 7175          312.000000\n",
       " 7255          131.262395\n",
       " 2846           65.659137\n",
       " 1211          666.724937\n",
       " 4294           60.151529\n",
       " ...                  ...\n",
       " 1594          345.600000\n",
       " 636           902.400000\n",
       " 3326          155.708627\n",
       " 2604          523.200000\n",
       " 5252          489.600000\n",
       " \n",
       " [3654 rows x 1 columns]]"
      ]
     },
     "execution_count": 17,
     "metadata": {},
     "output_type": "execute_result"
    }
   ],
   "source": [
    "train_test_split(X,Y,test_size=0.4,random_state=100)"
   ]
  },
  {
   "cell_type": "code",
   "execution_count": 18,
   "id": "a3ed80a5",
   "metadata": {},
   "outputs": [],
   "source": [
    "x_train, x_test, y_train, y_test = train_test_split(X,Y,test_size=0.4,random_state=100)"
   ]
  },
  {
   "cell_type": "code",
   "execution_count": 19,
   "id": "1805d707",
   "metadata": {},
   "outputs": [],
   "source": [
    "model = sm.OLS(y_train,x_train).fit()"
   ]
  },
  {
   "cell_type": "code",
   "execution_count": 20,
   "id": "f334a87a",
   "metadata": {},
   "outputs": [],
   "source": [
    "X.to_csv('final_data.csv')\n",
    "Y.to_csv('final_Y.csv')"
   ]
  },
  {
   "cell_type": "code",
   "execution_count": 21,
   "id": "623b35b6",
   "metadata": {},
   "outputs": [],
   "source": [
    "predictions = model.predict(x_test)"
   ]
  },
  {
   "cell_type": "code",
   "execution_count": 29,
   "id": "a0fe0e62",
   "metadata": {},
   "outputs": [],
   "source": [
    "Lreg = LinearRegression().fit(x_train, y_train)"
   ]
  },
  {
   "cell_type": "code",
   "execution_count": 31,
   "id": "6974e141",
   "metadata": {},
   "outputs": [],
   "source": [
    "predictions = Lreg.predict(x_test)"
   ]
  },
  {
   "cell_type": "code",
   "execution_count": 32,
   "id": "2ade1cc3",
   "metadata": {},
   "outputs": [],
   "source": [
    "r2 = r2_score(y_test, predictions)"
   ]
  },
  {
   "cell_type": "code",
   "execution_count": 34,
   "id": "82ea1a13",
   "metadata": {},
   "outputs": [],
   "source": [
    "mse = mean_squared_error(y_test,predictions)"
   ]
  },
  {
   "cell_type": "code",
   "execution_count": 36,
   "id": "1177d92b",
   "metadata": {},
   "outputs": [],
   "source": [
    "rmse = math.sqrt(mse)"
   ]
  },
  {
   "cell_type": "code",
   "execution_count": 39,
   "id": "11704183",
   "metadata": {},
   "outputs": [],
   "source": [
    "mae = mean_absolute_error(y_test, predictions)"
   ]
  },
  {
   "cell_type": "code",
   "execution_count": 33,
   "id": "7717ae14",
   "metadata": {},
   "outputs": [
    {
     "data": {
      "text/plain": [
       "0.5902588938948329"
      ]
     },
     "execution_count": 33,
     "metadata": {},
     "output_type": "execute_result"
    }
   ],
   "source": [
    "r2"
   ]
  },
  {
   "cell_type": "code",
   "execution_count": 35,
   "id": "87e66d96",
   "metadata": {},
   "outputs": [
    {
     "data": {
      "text/plain": [
       "32555.12151946689"
      ]
     },
     "execution_count": 35,
     "metadata": {},
     "output_type": "execute_result"
    }
   ],
   "source": [
    "mse"
   ]
  },
  {
   "cell_type": "code",
   "execution_count": 37,
   "id": "98ed2052",
   "metadata": {},
   "outputs": [
    {
     "data": {
      "text/plain": [
       "180.4303785937027"
      ]
     },
     "execution_count": 37,
     "metadata": {},
     "output_type": "execute_result"
    }
   ],
   "source": [
    "rmse"
   ]
  },
  {
   "cell_type": "code",
   "execution_count": 40,
   "id": "d1ad6219",
   "metadata": {},
   "outputs": [
    {
     "data": {
      "text/plain": [
       "131.93937243565185"
      ]
     },
     "execution_count": 40,
     "metadata": {},
     "output_type": "execute_result"
    }
   ],
   "source": [
    "mae"
   ]
  }
 ],
 "metadata": {
  "kernelspec": {
   "display_name": "Python 3 (ipykernel)",
   "language": "python",
   "name": "python3"
  },
  "language_info": {
   "codemirror_mode": {
    "name": "ipython",
    "version": 3
   },
   "file_extension": ".py",
   "mimetype": "text/x-python",
   "name": "python",
   "nbconvert_exporter": "python",
   "pygments_lexer": "ipython3",
   "version": "3.9.13"
  }
 },
 "nbformat": 4,
 "nbformat_minor": 5
}
